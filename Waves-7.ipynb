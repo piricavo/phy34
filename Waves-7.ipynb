{
 "cells": [
  {
   "cell_type": "code",
   "execution_count": 1,
   "metadata": {},
   "outputs": [
    {
     "name": "stdout",
     "output_type": "stream",
     "text": [
      "\n"
     ]
    }
   ],
   "source": [
    "from sympy import *\n",
    "init_session(use_latex=True,auto_symbols=True,auto_int_to_Integer=True,quiet=True)"
   ]
  },
  {
   "cell_type": "code",
   "execution_count": null,
   "metadata": {},
   "outputs": [],
   "source": [
    "k = symbols('k',positive=True)\n",
    "d = symbols('d',positive=True)"
   ]
  },
  {
   "cell_type": "code",
   "execution_count": null,
   "metadata": {},
   "outputs": [
    {
     "data": {
      "image/png": "[encoded data removed]",
      "text/latex": [
       "$\\displaystyle \\frac{I_{0} \\delta_{k} e^{x \\left(- \\frac{\\delta_{k}^{2} x}{4} + i k_{0}\\right)}}{2 \\sqrt{\\pi}}$"
      ],
      "text/plain": [
       "         ⎛    2         ⎞\n",
       "         ⎜  δₖ ⋅x       ⎟\n",
       "       x⋅⎜- ───── + ⅈ⋅k₀⎟\n",
       "         ⎝    4         ⎠\n",
       "I₀⋅δₖ⋅ℯ                  \n",
       "─────────────────────────\n",
       "           2⋅√π          "
      ]
     },
     "execution_count": 8,
     "metadata": {},
     "output_type": "execute_result"
    }
   ],
   "source": [
    "integrate(I_0*1/(2*pi) * exp(-(k-k_0)**2/delta_k**2) * exp(I*k*x),(k,-oo,oo),conds='none').simplify()"
   ]
  },
  {
   "cell_type": "code",
   "execution_count": null,
   "metadata": {},
   "outputs": [
    {
     "name": "stdout",
     "output_type": "stream",
     "text": [
      "\\frac{\\delta_{k} e^{x \\left(- \\frac{\\delta_{k}^{2} x}{4} + i k_{0}\\right)}}{2 \\sqrt{\\pi}}\n"
     ]
    }
   ],
   "source": [
    "print(latex(_))"
   ]
  },
  {
   "cell_type": "code",
   "execution_count": null,
   "metadata": {},
   "outputs": [
    {
     "data": {
      "image/png": "[encoded data removed]",
      "text/latex": [
       "$\\displaystyle \\frac{I_{0} \\delta_{k} e^{x \\left(- \\frac{\\delta_{k}^{2} x}{4} + i k_{0}\\right)}}{4 \\sqrt{\\pi}} + \\frac{\\sqrt{\\pi} I_{0} \\delta_{k}}{2}$"
      ],
      "text/plain": [
       "         ⎛    2         ⎞           \n",
       "         ⎜  δₖ ⋅x       ⎟           \n",
       "       x⋅⎜- ───── + ⅈ⋅k₀⎟           \n",
       "         ⎝    4         ⎠           \n",
       "I₀⋅δₖ⋅ℯ                     √π⋅I₀⋅δₖ\n",
       "───────────────────────── + ────────\n",
       "           4⋅√π                2    "
      ]
     },
     "execution_count": 9,
     "metadata": {},
     "output_type": "execute_result"
    }
   ],
   "source": [
    "G = I_0 * exp(-(k-k_0)**2/delta_k**2)\n",
    "i0 = integrate(G,(k,-oo,oo),conds='none').simplify()\n",
    "W = _8\n",
    "(W + i0)/2"
   ]
  },
  {
   "cell_type": "code",
   "execution_count": 11,
   "metadata": {},
   "outputs": [
    {
     "name": "stdout",
     "output_type": "stream",
     "text": [
      "\\frac{i \\sqrt{\\pi} I_{0} \\delta_{k} \\left(\\operatorname{erfc}{\\left(\\frac{i k_{0}}{\\delta_{k}} \\right)} - 2\\right)}{2} - \\frac{i \\delta_{k} e^{x \\left(\\frac{\\delta_{k}^{2} x}{4} + i k_{0}\\right)}}{4 \\sqrt{\\pi}}\n"
     ]
    }
   ],
   "source": [
    "print(latex(_10))"
   ]
  },
  {
   "cell_type": "code",
   "execution_count": 6,
   "metadata": {},
   "outputs": [
    {
     "data": {
      "image/png": "[encoded data removed]",
      "text/latex": [
       "$\\displaystyle \\frac{a \\left(e^{\\frac{4 c \\left(d + k\\right)}{b}} + e^{\\frac{4 d \\left(c + k\\right)}{b}} + e^{\\frac{4 k \\left(c + d\\right)}{b}} + 1\\right) e^{- \\frac{c^{2} + 2 c d + 2 c k + d^{2} + 2 d k + k^{2}}{b}}}{2 \\sqrt{\\pi} \\sqrt{b}}$"
      ],
      "text/plain": [
       "                                                     ⎛ 2                    2 \n",
       "  ⎛ 4⋅c⋅(d + k)    4⋅d⋅(c + k)    4⋅k⋅(c + d)    ⎞  -⎝c  + 2⋅c⋅d + 2⋅c⋅k + d  \n",
       "  ⎜ ───────────    ───────────    ───────────    ⎟  ──────────────────────────\n",
       "  ⎜      b              b              b         ⎟                     b      \n",
       "a⋅⎝ℯ            + ℯ            + ℯ            + 1⎠⋅ℯ                          \n",
       "──────────────────────────────────────────────────────────────────────────────\n",
       "                                          2⋅√π⋅√b                             \n",
       "\n",
       "           2⎞ \n",
       "+ 2⋅d⋅k + k ⎠ \n",
       "──────────────\n",
       "              \n",
       "              \n",
       "──────────────\n",
       "              "
      ]
     },
     "execution_count": 6,
     "metadata": {},
     "output_type": "execute_result"
    }
   ],
   "source": [
    "i = a*(1 + exp(-b*x**2/4)*cos(c*x)*cos(d*x))\n",
    "i0 = i.subs(x,0)\n",
    "W = 2*i - i0\n",
    "integrate(1/(2*pi)*W*exp(I*k*x),(x,-oo,oo),conds='none').simplify()"
   ]
  },
  {
   "cell_type": "code",
   "execution_count": 9,
   "metadata": {},
   "outputs": [
    {
     "name": "stdout",
     "output_type": "stream",
     "text": [
      "\\frac{a \\left(e^{\\frac{4 c \\left(d + k\\right)}{b}} + e^{\\frac{4 d \\left(c + k\\right)}{b}} + e^{\\frac{4 k \\left(c + d\\right)}{b}} + 1\\right) e^{- \\frac{c^{2} + 2 c d + 2 c k + d^{2} + 2 d k + k^{2}}{b}}}{2 \\sqrt{\\pi} \\sqrt{b}}\n"
     ]
    }
   ],
   "source": [
    "print(latex(_6))"
   ]
  }
 ],
 "metadata": {
  "kernelspec": {
   "display_name": "Python 3",
   "language": "python",
   "name": "python3"
  },
  "language_info": {
   "codemirror_mode": {
    "name": "ipython",
    "version": 3
   },
   "file_extension": ".py",
   "mimetype": "text/x-python",
   "name": "python",
   "nbconvert_exporter": "python",
   "pygments_lexer": "ipython3",
   "version": "3.7.7"
  },
  "latex_envs": {
   "LaTeX_envs_menu_present": true,
   "autoclose": false,
   "autocomplete": true,
   "bibliofile": "biblio.bib",
   "cite_by": "apalike",
   "current_citInitial": 1,
   "eqLabelWithNumbers": true,
   "eqNumInitial": 1,
   "hotkeys": {
    "equation": "Ctrl-E",
    "itemize": "Ctrl-I"
   },
   "labels_anchors": false,
   "latex_user_defs": false,
   "report_style_numbering": false,
   "user_envs_cfg": false
  },
  "varInspector": {
   "cols": {
    "lenName": 16,
    "lenType": 16,
    "lenVar": 40
   },
   "kernels_config": {
    "python": {
     "delete_cmd_postfix": "",
     "delete_cmd_prefix": "del ",
     "library": "var_list.py",
     "varRefreshCmd": "print(var_dic_list())"
    },
    "r": {
     "delete_cmd_postfix": ") ",
     "delete_cmd_prefix": "rm(",
     "library": "var_list.r",
     "varRefreshCmd": "cat(var_dic_list()) "
    }
   },
   "types_to_exclude": [
    "module",
    "function",
    "builtin_function_or_method",
    "instance",
    "_Feature"
   ],
   "window_display": false
  }
 },
 "nbformat": 4,
 "nbformat_minor": 2
}
